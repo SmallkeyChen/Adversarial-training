{
 "cells": [
  {
   "cell_type": "code",
   "execution_count": 1,
   "metadata": {},
   "outputs": [],
   "source": [
    "import numpy as np\n",
    "\n",
    "from tensorflow import keras\n",
    "# Tensorflow 2.2.0 !!!!!\n",
    "\n",
    "import matplotlib.pyplot as plt\n",
    "import tensorflow as tf\n",
    "import cv2\n",
    "%matplotlib inline"
   ]
  },
  {
   "cell_type": "code",
   "execution_count": 56,
   "metadata": {},
   "outputs": [],
   "source": [
    "# Load mnist dataset\n",
    "path = \"./mnist.npz\"\n",
    "f = np.load(path)\n",
    "x_train, y_train = f['x_train'], f['y_train']\n",
    "x_test, y_test = f['x_test'], f['y_test']\n",
    "f.close()\n",
    "\n",
    "x_train = x_train.reshape(x_train.shape[0], 28, 28, 1)\n",
    "x_test = x_test.reshape(x_test.shape[0], 28, 28, 1)\n",
    "input_shape = (28, 28, 1)\n",
    "\n",
    "# make the value of pixels from [0, 255] to [0, 1] for further process\n",
    "x_train = x_train.astype('float32') / 255.\n",
    "x_test = x_test.astype('float32') / 255.\n",
    "\n",
    "# convert class vectors to binary class matrics\n",
    "y_train = keras.utils.to_categorical(y_train, 10)\n",
    "y_test = keras.utils.to_categorical(y_test, 10)"
   ]
  },
  {
   "cell_type": "code",
   "execution_count": 57,
   "metadata": {},
   "outputs": [],
   "source": [
    "# Load pretrained-model\n",
    "model = keras.models.load_model(\"./mnist_model.h5\")"
   ]
  },
  {
   "cell_type": "code",
   "execution_count": 4,
   "metadata": {},
   "outputs": [
    {
     "data": {
      "text/plain": [
       "<matplotlib.image.AxesImage at 0x12e3cc208>"
      ]
     },
     "execution_count": 4,
     "metadata": {},
     "output_type": "execute_result"
    },
    {
     "data": {
      "image/png": "[encoded data removed]",
      "text/plain": [
       "<Figure size 432x288 with 1 Axes>"
      ]
     },
     "metadata": {
      "needs_background": "light"
     },
     "output_type": "display_data"
    }
   ],
   "source": [
    "plt.imshow(x_test[0].reshape(28,28),cmap='gray')"
   ]
  },
  {
   "cell_type": "code",
   "execution_count": 5,
   "metadata": {},
   "outputs": [
    {
     "name": "stdout",
     "output_type": "stream",
     "text": [
      "[[1.4840211e-08 9.4211394e-10 3.5942730e-08 3.1318368e-08 1.9504790e-11\n",
      "  3.3869672e-09 4.4990940e-13 9.9999928e-01 1.0695238e-09 6.8377722e-07]] 0.9999993\n"
     ]
    }
   ],
   "source": [
    "preds = model.predict(x_test[0].reshape(1,28,28,1))\n",
    "print(preds, np.max(preds))"
   ]
  },
  {
   "cell_type": "code",
   "execution_count": 6,
   "metadata": {},
   "outputs": [],
   "source": [
    "x = x_test[4].reshape(1,28,28,1)\n",
    "target = y_test[4]\n",
    "\n",
    "preds = model.predict(x)\n",
    "initial_class = np.argmax(preds)"
   ]
  },
  {
   "cell_type": "code",
   "execution_count": 7,
   "metadata": {},
   "outputs": [
    {
     "data": {
      "text/plain": [
       "<matplotlib.image.AxesImage at 0x14238c1d0>"
      ]
     },
     "execution_count": 7,
     "metadata": {},
     "output_type": "execute_result"
    },
    {
     "data": {
      "image/png": "[encoded data removed]",
      "text/plain": [
       "<Figure size 432x288 with 1 Axes>"
      ]
     },
     "metadata": {
      "needs_background": "light"
     },
     "output_type": "display_data"
    }
   ],
   "source": [
    "plt.imshow(x.reshape(28,28),cmap='gray')"
   ]
  },
  {
   "cell_type": "code",
   "execution_count": 8,
   "metadata": {},
   "outputs": [
    {
     "name": "stdout",
     "output_type": "stream",
     "text": [
      "[0. 0. 0. 0. 1. 0. 0. 0. 0. 0.]\n"
     ]
    }
   ],
   "source": [
    "print(target)"
   ]
  },
  {
   "cell_type": "code",
   "execution_count": 65,
   "metadata": {},
   "outputs": [],
   "source": [
    "## fgsm \n",
    "fosc = []\n",
    "randInitial = True\n",
    "\n",
    "## FGSM输入参数应该是x_true 和 y_true\n",
    "def fgsm(x, y):\n",
    "    initial_class = np.argmax(y)\n",
    "    target = tf.constant(y)\n",
    "    ppreds = model(x)\n",
    "    epsilon = 0.25\n",
    "    \n",
    "    if randInitial:\n",
    "        x = x + np.random.uniform(-0.1, 0.1, x.shape)\n",
    "        x = np.clip(x, 0, 1)\n",
    "\n",
    "    x_ = tf.Variable(x)\n",
    "\n",
    "    # Get the loss and gradient of the loss wrt the inputs\n",
    "    with tf.GradientTape() as tape:\n",
    "        loss = keras.losses.categorical_crossentropy(tf.expand_dims(target,0), model(x_))\n",
    "        grads = tape.gradient(loss, x_)\n",
    "    # Get the sign of the gradient\n",
    "    delta = tf.sign(grads)\n",
    "\n",
    "    # Perturb the image\n",
    "    x_adv = x_ + epsilon*delta\n",
    "    x_adv = tf.clip_by_value(x_adv, clip_value_min=-1, clip_value_max=1)\n",
    "    x_adv = tf.Variable(x_adv)\n",
    "\n",
    "    preds = model(x_adv)\n",
    "    print(\"target is %d\" % initial_class)\n",
    "    print(\"Preivious pred: %.5f, Attacked pred: %.5f\" % (ppreds[0][initial_class].numpy(),preds[0][initial_class].numpy()))\n",
    "\n",
    "    with tf.GradientTape() as tape2:\n",
    "        loss = keras.losses.categorical_crossentropy(tf.expand_dims(target,0), model(x_adv))\n",
    "        grads2 = tape2.gradient(loss, x_adv)\n",
    "#             print(grads2)  # size = 1，28，28，1\n",
    "#             grad_norm = tf.norm(grads2,ord=1).numpy().reshape(-1)\n",
    "        grad_norm = np.linalg.norm(grads2.numpy().reshape(-1), ord=1)\n",
    "        grads2_flat = grads2.numpy().reshape(-1)\n",
    "        diff = x_adv.numpy().reshape(-1)- x_.numpy().reshape(-1)\n",
    "        fosc_item = -np.dot(grads2_flat, diff) + epsilon * grad_norm\n",
    "        print(\"fgsm-fsoc: %.5f\\n\" % fosc_item)\n",
    "        fosc.append(fosc_item)\n",
    "            \n",
    "    return x_adv"
   ]
  },
  {
   "cell_type": "code",
   "execution_count": 69,
   "metadata": {},
   "outputs": [
    {
     "name": "stdout",
     "output_type": "stream",
     "text": [
      "target is 5\n",
      "Preivious pred: 0.99997, Attacked pred: 0.00310\n",
      "fgsm-fsoc: 24.51787\n",
      "\n",
      "target is 0\n",
      "Preivious pred: 1.00000, Attacked pred: 0.48860\n",
      "fgsm-fsoc: 8.26889\n",
      "\n",
      "target is 4\n",
      "Preivious pred: 0.99984, Attacked pred: 0.04830\n",
      "fgsm-fsoc: 26.81600\n",
      "\n",
      "target is 1\n",
      "Preivious pred: 0.99999, Attacked pred: 0.09840\n",
      "fgsm-fsoc: 17.33059\n",
      "\n",
      "target is 9\n",
      "Preivious pred: 0.99996, Attacked pred: 0.00023\n",
      "fgsm-fsoc: 33.08564\n",
      "\n",
      "target is 2\n",
      "Preivious pred: 1.00000, Attacked pred: 0.18954\n",
      "fgsm-fsoc: 14.24415\n",
      "\n",
      "target is 1\n",
      "Preivious pred: 1.00000, Attacked pred: 1.00000\n",
      "fgsm-fsoc: 0.00000\n",
      "\n",
      "target is 3\n",
      "Preivious pred: 1.00000, Attacked pred: 0.38283\n",
      "fgsm-fsoc: 11.10750\n",
      "\n",
      "target is 1\n",
      "Preivious pred: 1.00000, Attacked pred: 0.80173\n",
      "fgsm-fsoc: 3.52507\n",
      "\n",
      "target is 4\n",
      "Preivious pred: 1.00000, Attacked pred: 0.00385\n",
      "fgsm-fsoc: 27.88919\n",
      "\n",
      "target is 3\n",
      "Preivious pred: 0.99998, Attacked pred: 0.04223\n",
      "fgsm-fsoc: 25.82283\n",
      "\n",
      "target is 5\n",
      "Preivious pred: 1.00000, Attacked pred: 0.02433\n",
      "fgsm-fsoc: 17.30308\n",
      "\n",
      "target is 3\n",
      "Preivious pred: 1.00000, Attacked pred: 1.00000\n",
      "fgsm-fsoc: 0.00000\n",
      "\n",
      "target is 6\n",
      "Preivious pred: 1.00000, Attacked pred: 0.37080\n",
      "fgsm-fsoc: 15.72333\n",
      "\n",
      "target is 1\n",
      "Preivious pred: 1.00000, Attacked pred: 0.29782\n",
      "fgsm-fsoc: 11.53817\n",
      "\n",
      "target is 7\n",
      "Preivious pred: 1.00000, Attacked pred: 0.02278\n",
      "fgsm-fsoc: 14.80221\n",
      "\n",
      "target is 2\n",
      "Preivious pred: 0.99999, Attacked pred: 0.05824\n",
      "fgsm-fsoc: 18.50636\n",
      "\n",
      "target is 8\n",
      "Preivious pred: 0.99999, Attacked pred: 0.08582\n",
      "fgsm-fsoc: 18.54943\n",
      "\n",
      "target is 6\n",
      "Preivious pred: 0.99999, Attacked pred: 0.04574\n",
      "fgsm-fsoc: 17.90403\n",
      "\n",
      "target is 9\n",
      "Preivious pred: 0.99996, Attacked pred: 0.00137\n",
      "fgsm-fsoc: 24.56639\n",
      "\n"
     ]
    }
   ],
   "source": [
    "for i in range(20):\n",
    "    img = x_train[i].reshape(1,28,28,1)\n",
    "    label = y_train[i]\n",
    "    xgen = fgsm(img, label)\n",
    "    # cv2.imwrite(\"/Users/chenjl666/DNNtesting/FGSM_jupyter_data/FGSM_%d.png\" % (i+1), xgen.numpy().reshape(28,28,1)*255)"
   ]
  },
  {
   "cell_type": "code",
   "execution_count": 70,
   "metadata": {},
   "outputs": [
    {
     "data": {
      "image/png": "[encoded data removed]",
      "text/plain": [
       "<Figure size 432x288 with 1 Axes>"
      ]
     },
     "metadata": {
      "needs_background": "light"
     },
     "output_type": "display_data"
    }
   ],
   "source": [
    "import seaborn as sns\n",
    "\n",
    "fig,ax=plt.subplots()\n",
    "sns.kdeplot(fosc,shade=True)\n",
    "plt.show()"
   ]
  },
  {
   "cell_type": "code",
   "execution_count": 71,
   "metadata": {
    "scrolled": false
   },
   "outputs": [
    {
     "data": {
      "text/plain": [
       "<matplotlib.image.AxesImage at 0x162142eb8>"
      ]
     },
     "execution_count": 71,
     "metadata": {},
     "output_type": "execute_result"
    },
    {
     "data": {
      "image/png": "[encoded data removed]",
      "text/plain": [
       "<Figure size 432x288 with 1 Axes>"
      ]
     },
     "metadata": {
      "needs_background": "light"
     },
     "output_type": "display_data"
    }
   ],
   "source": [
    "plt.imshow(xgen.numpy().reshape(28,28),cmap='gray')"
   ]
  },
  {
   "cell_type": "code",
   "execution_count": 52,
   "metadata": {},
   "outputs": [],
   "source": [
    "pgd_fosc = []\n",
    "\n",
    "def pgd(x, y):\n",
    "#     x = x_test[1].reshape(1,28,28,1)\n",
    "    # target = y_test[1]\n",
    "    ppreds = model(x)\n",
    "    initial_class = np.argmax(y)\n",
    "    target = tf.constant(y)\n",
    "    epsilon = 0.03\n",
    "    bound = 0.15\n",
    "    epoch = 20\n",
    "\n",
    "    if randInitial:\n",
    "        x = x + np.random.uniform(-epsilon, epsilon, x.shape)\n",
    "        x = np.clip(x, 0, 1)\n",
    "    \n",
    "    x_ = tf.Variable(x)\n",
    "    x_adv = tf.Variable(x)\n",
    "\n",
    "    for i in range(epoch): \n",
    "        # Get the loss and gradient of the loss wrt the inputs\n",
    "        with tf.GradientTape() as tape:\n",
    "            loss = keras.losses.categorical_crossentropy(tf.expand_dims(target,0), model(x_adv))\n",
    "            grads = tape.gradient(loss, x_adv)\n",
    "        # Get the sign of the gradient\n",
    "        delta = tf.sign(grads)\n",
    "\n",
    "        # Perturb the image\n",
    "        x_adv.assign_add(epsilon*delta)\n",
    "        x_adv = tf.clip_by_value(x_adv, clip_value_min=x_-bound, clip_value_max=x_+bound)\n",
    "        x_adv = tf.clip_by_value(x_adv, clip_value_min=-1, clip_value_max=1)\n",
    "        x_adv = tf.Variable(x_adv)\n",
    "        \n",
    "    preds = model(x_adv)\n",
    "    print(\"target is %d\" % initial_class)\n",
    "    print(\"Preivious pred: %.5f, Attacked pred: %.5f\" % (ppreds[0][initial_class].numpy(),preds[0][initial_class].numpy()))\n",
    "\n",
    "    \n",
    "    with tf.GradientTape() as tape2:\n",
    "        loss = keras.losses.categorical_crossentropy(tf.expand_dims(target,0), model(x_adv))\n",
    "        grads2 = tape2.gradient(loss, x_adv)\n",
    "        grad_norm = np.linalg.norm(grads2.numpy().reshape(-1), ord=1)\n",
    "        grads2_flat = grads2.numpy().reshape(-1)\n",
    "        diff = x_adv.numpy().reshape(-1)- x_.numpy().reshape(-1)\n",
    "        fosc_item = -np.dot(grads2_flat, diff) + bound * grad_norm\n",
    "        print(\"pgd-fsoc: %.5f\\n\" % fosc_item)\n",
    "        pgd_fosc.append(fosc_item)\n",
    "        \n",
    "    return x_adv"
   ]
  },
  {
   "cell_type": "code",
   "execution_count": 53,
   "metadata": {
    "scrolled": true
   },
   "outputs": [
    {
     "name": "stdout",
     "output_type": "stream",
     "text": [
      "target is 5\n",
      "Preivious pred: 0.99997, Attacked pred: 0.00035\n",
      "pgd-fsoc: 3.01292\n",
      "\n",
      "target is 0\n",
      "Preivious pred: 1.00000, Attacked pred: 0.18823\n",
      "pgd-fsoc: 1.57099\n",
      "\n",
      "target is 4\n",
      "Preivious pred: 0.99984, Attacked pred: 0.00037\n",
      "pgd-fsoc: 3.29669\n",
      "\n",
      "target is 1\n",
      "Preivious pred: 0.99999, Attacked pred: 0.00402\n",
      "pgd-fsoc: 3.01649\n",
      "\n",
      "target is 9\n",
      "Preivious pred: 0.99996, Attacked pred: 0.00000\n",
      "pgd-fsoc: 4.65290\n",
      "\n",
      "target is 2\n",
      "Preivious pred: 1.00000, Attacked pred: 0.00471\n",
      "pgd-fsoc: 3.79916\n",
      "\n",
      "target is 1\n",
      "Preivious pred: 1.00000, Attacked pred: 1.00000\n",
      "pgd-fsoc: 0.00000\n",
      "\n",
      "target is 3\n",
      "Preivious pred: 1.00000, Attacked pred: 0.02402\n",
      "pgd-fsoc: 3.19117\n",
      "\n",
      "target is 1\n",
      "Preivious pred: 1.00000, Attacked pred: 0.10317\n",
      "pgd-fsoc: 2.13952\n",
      "\n",
      "target is 4\n",
      "Preivious pred: 1.00000, Attacked pred: 0.00001\n",
      "pgd-fsoc: 2.54056\n",
      "\n"
     ]
    }
   ],
   "source": [
    "for i in range(10):\n",
    "    img = x_train[i].reshape(1,28,28,1)\n",
    "    label = y_train[i]\n",
    "    xgen = pgd(img, label)\n",
    "    # cv2.imwrite(\"/Users/chenjl666/DNNtesting/FGSM_jupyter_data/PGD_%d.png\" % (i+1), xgen.numpy().reshape(28,28,1)*255)"
   ]
  },
  {
   "cell_type": "code",
   "execution_count": 54,
   "metadata": {},
   "outputs": [
    {
     "data": {
      "text/plain": [
       "<matplotlib.image.AxesImage at 0x1623c1780>"
      ]
     },
     "execution_count": 54,
     "metadata": {},
     "output_type": "execute_result"
    },
    {
     "data": {
      "image/png": "[encoded data removed]",
      "text/plain": [
       "<Figure size 432x288 with 1 Axes>"
      ]
     },
     "metadata": {
      "needs_background": "light"
     },
     "output_type": "display_data"
    }
   ],
   "source": [
    "plt.imshow(xgen.numpy().reshape(28,28),cmap='gray')"
   ]
  },
  {
   "cell_type": "code",
   "execution_count": 55,
   "metadata": {},
   "outputs": [
    {
     "data": {
      "image/png": "[encoded data removed]",
      "text/plain": [
       "<Figure size 432x288 with 1 Axes>"
      ]
     },
     "metadata": {
      "needs_background": "light"
     },
     "output_type": "display_data"
    }
   ],
   "source": [
    "fig,ax=plt.subplots()\n",
    "sns.kdeplot(pgd_fosc,shade=True)\n",
    "plt.show()"
   ]
  },
  {
   "cell_type": "code",
   "execution_count": 83,
   "metadata": {},
   "outputs": [],
   "source": [
    "imgx = cv2.imread(\"/Users/chenjl666/DNNtesting/FGSM_jupyter_data/FGSM_1.png\")"
   ]
  },
  {
   "cell_type": "code",
   "execution_count": 86,
   "metadata": {},
   "outputs": [
    {
     "data": {
      "text/plain": [
       "<matplotlib.image.AxesImage at 0x153d166a0>"
      ]
     },
     "execution_count": 86,
     "metadata": {},
     "output_type": "execute_result"
    },
    {
     "data": {
      "image/png": "[encoded data removed]",
      "text/plain": [
       "<Figure size 432x288 with 1 Axes>"
      ]
     },
     "metadata": {
      "needs_background": "light"
     },
     "output_type": "display_data"
    }
   ],
   "source": [
    "plt.imshow(imgx, cmap='gray')"
   ]
  }
 ],
 "metadata": {
  "kernelspec": {
   "display_name": "Python 3.6.5 64-bit",
   "language": "python",
   "name": "python36564bit864510bf6cea4093a64925fdbff9e6a9"
  },
  "language_info": {
   "codemirror_mode": {
    "name": "ipython",
    "version": 3
   },
   "file_extension": ".py",
   "mimetype": "text/x-python",
   "name": "python",
   "nbconvert_exporter": "python",
   "pygments_lexer": "ipython3",
   "version": "3.6.5"
  }
 },
 "nbformat": 4,
 "nbformat_minor": 2
}
